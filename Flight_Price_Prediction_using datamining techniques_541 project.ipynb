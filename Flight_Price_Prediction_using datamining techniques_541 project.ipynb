{
  "cells": [
    {
      "cell_type": "markdown",
      "metadata": {
        "id": "ESgUmk4pLUPx"
      },
      "source": [
        "**0. Importing libraries**"
      ]
    },
    {
      "cell_type": "markdown",
      "metadata": {},
      "source": [
        "The dynamic nature of the aviation sector and the wide range of factors that impact the flight prices , it can be difficult for travelers to predict and budget for changes in airfare. It is clear that precise and trustworthy flight price forecasts are necessary to give customers the power to make wise choices. The numbers in transport through flight travel has been increasing day by day and according to transportation statistics US airlines carried more than 194 million passengers in 2022 than in 2021.The application of Data mining  techniques to predict the prices of flight tickets can be largely useful to the airline industry because of the fact that fares are subjected to wild fluctuations and varying ranges due to various factors including durations , airlines, month of travel, departure durations ."
      ]
    },
    {
      "cell_type": "code",
      "execution_count": null,
      "metadata": {
        "id": "v_Rbf0CcLSai"
      },
      "outputs": [],
      "source": [
        "import pandas as pd\n",
        "import numpy as np\n",
        "import os\n",
        "from datetime import datetime\n",
        "import seaborn as sns\n",
        "import matplotlib.pyplot as plt\n",
        "import plotly.express as px\n",
        "%matplotlib inline\n",
        "import joblib"
      ]
    },
    {
      "cell_type": "markdown",
      "metadata": {
        "id": "Z4Bt2O5eMbCK"
      },
      "source": [
        "**1. Data Preprocessing**"
      ]
    },
    {
      "cell_type": "markdown",
      "metadata": {
        "id": "aHOKLLwhMjYR"
      },
      "source": [
        "****1.1 Loading Data****"
      ]
    },
    {
      "cell_type": "code",
      "execution_count": null,
      "metadata": {
        "id": "jcwA0eakLSak"
      },
      "outputs": [],
      "source": [
        "\n",
        "\n",
        "df1 = r'C:\\economy.csv'\n",
        "df2 = r'C:\\business.csv'"
      ]
    },
    {
      "cell_type": "code",
      "execution_count": null,
      "metadata": {
        "id": "U30kDafSLSal"
      },
      "outputs": [],
      "source": [
        "\n",
        "economy_df = pd.read_csv(df1,  low_memory=False)\n",
        "business_df = pd.read_csv(df2,  low_memory=False)"
      ]
    },
    {
      "cell_type": "markdown",
      "metadata": {
        "id": "rw4Q6uZ7NNvQ"
      },
      "source": [
        "****1.2 Knowing the data (Economy class)****"
      ]
    },
    {
      "cell_type": "code",
      "execution_count": null,
      "metadata": {
        "colab": {
          "base_uri": "https://localhost:8080/",
          "height": 206
        },
        "id": "803XYc3cLSam",
        "outputId": "7c88b736-652f-4237-c195-1fad518de885"
      },
      "outputs": [],
      "source": [
        "economy_df.head()"
      ]
    },
    {
      "cell_type": "code",
      "execution_count": null,
      "metadata": {
        "colab": {
          "base_uri": "https://localhost:8080/"
        },
        "id": "Dej9U6-hLSam",
        "outputId": "efaf85ab-743f-4858-d68b-0ca68b5eadb9"
      },
      "outputs": [],
      "source": [
        "economy_df.shape"
      ]
    },
    {
      "cell_type": "markdown",
      "metadata": {},
      "source": [
        "Getting unique values from date column"
      ]
    },
    {
      "cell_type": "code",
      "execution_count": null,
      "metadata": {
        "colab": {
          "base_uri": "https://localhost:8080/"
        },
        "id": "Ty_271c8LSam",
        "outputId": "b6fb40d3-cb2d-4ad6-fc5d-bab8434b6d3a"
      },
      "outputs": [],
      "source": [
        "economy_df['date'].unique()"
      ]
    },
    {
      "cell_type": "code",
      "execution_count": null,
      "metadata": {},
      "outputs": [],
      "source": []
    },
    {
      "cell_type": "code",
      "execution_count": null,
      "metadata": {
        "id": "7ZX448R8LSam"
      },
      "outputs": [],
      "source": [
        "economy_df = economy_df.dropna(subset=['date'])"
      ]
    },
    {
      "cell_type": "code",
      "execution_count": null,
      "metadata": {
        "colab": {
          "base_uri": "https://localhost:8080/"
        },
        "id": "dLpDwgtWLSan",
        "outputId": "537a4b0a-1dc1-4f11-c691-58469cf9edb1"
      },
      "outputs": [],
      "source": [
        "economy_df.info()"
      ]
    },
    {
      "cell_type": "code",
      "execution_count": null,
      "metadata": {
        "colab": {
          "base_uri": "https://localhost:8080/"
        },
        "id": "ib0KLwNdLSan",
        "outputId": "52bfabb2-84d9-40aa-cf44-170c6b600f17"
      },
      "outputs": [],
      "source": [
        "economy_df['date'].unique()"
      ]
    },
    {
      "cell_type": "code",
      "execution_count": null,
      "metadata": {},
      "outputs": [],
      "source": [
        "import pandas as pd\n",
        "from datetime import datetime"
      ]
    },
    {
      "cell_type": "code",
      "execution_count": null,
      "metadata": {
        "id": "3LAzeyriLSan"
      },
      "outputs": [],
      "source": [
        "# Convert the 'date' column to datetime with potential mixed formats and coerce errors\n",
        "economy_df['date'] = pd.to_datetime(economy_df['date'], format='%d-%m-%Y', dayfirst=True, errors='coerce')"
      ]
    },
    {
      "cell_type": "code",
      "execution_count": null,
      "metadata": {
        "id": "4AA5xtKoLSan"
      },
      "outputs": [],
      "source": [
        "\n",
        "target_date = datetime(2022, 2, 10)\n"
      ]
    },
    {
      "cell_type": "markdown",
      "metadata": {},
      "source": [
        "Creating days_left column with present date 10/02/2022"
      ]
    },
    {
      "cell_type": "code",
      "execution_count": null,
      "metadata": {
        "id": "nYdypAmgLSao"
      },
      "outputs": [],
      "source": [
        "# Calculate the difference in days and store it in a new column 'days_left'\n",
        "economy_df['days_left'] = (economy_df['date'] - target_date).dt.days\n"
      ]
    },
    {
      "cell_type": "code",
      "execution_count": null,
      "metadata": {
        "id": "lZ_4ADICLSao"
      },
      "outputs": [],
      "source": [
        "# Fill NaN values with 0\n",
        "economy_df['days_left'] = economy_df['days_left'].fillna(0).astype(int)"
      ]
    },
    {
      "cell_type": "code",
      "execution_count": null,
      "metadata": {
        "colab": {
          "base_uri": "https://localhost:8080/"
        },
        "id": "SBOEvlMjLSao",
        "outputId": "50542b7d-1773-430f-9ffe-8fd204a2095c"
      },
      "outputs": [],
      "source": [
        "economy_df['days_left'].unique()"
      ]
    },
    {
      "cell_type": "code",
      "execution_count": null,
      "metadata": {
        "colab": {
          "base_uri": "https://localhost:8080/",
          "height": 206
        },
        "id": "HNcELG4aLSao",
        "outputId": "763fd49b-bfa8-4760-c8fa-044bbc7c7bd5"
      },
      "outputs": [],
      "source": [
        "economy_df.head()"
      ]
    },
    {
      "cell_type": "markdown",
      "metadata": {},
      "source": [
        "Cleaning the stop column values to one stop or two stop or more "
      ]
    },
    {
      "cell_type": "code",
      "execution_count": null,
      "metadata": {
        "colab": {
          "base_uri": "https://localhost:8080/"
        },
        "id": "2M2UsEl6LSap",
        "outputId": "7ccf2127-0027-40d0-ae32-e6c751d69edb"
      },
      "outputs": [],
      "source": [
        "\n",
        "economy_df['stop'].unique()"
      ]
    },
    {
      "cell_type": "code",
      "execution_count": null,
      "metadata": {
        "id": "l-LUjCcKLSap"
      },
      "outputs": [],
      "source": [
        "economy_df['stop'] = economy_df['stop'].str.extract(r'(\\d+)\\+?-?stop')"
      ]
    },
    {
      "cell_type": "code",
      "execution_count": null,
      "metadata": {
        "id": "CYfTujRkLSap"
      },
      "outputs": [],
      "source": [
        "# Fill NaN values in the 'stop' column with '0'\n",
        "economy_df['stop'] = economy_df['stop'].fillna('0')\n",
        "# Fill NaN values in the 'stop' column with 0"
      ]
    },
    {
      "cell_type": "code",
      "execution_count": null,
      "metadata": {
        "colab": {
          "base_uri": "https://localhost:8080/"
        },
        "id": "5v3tSFdZLSap",
        "outputId": "6358efd7-4783-423f-ff44-ca67dc71dd79"
      },
      "outputs": [],
      "source": [
        "#df['stops'] = df['stops'].fillna('0')\n",
        "economy_df['stop'].unique()"
      ]
    },
    {
      "cell_type": "markdown",
      "metadata": {},
      "source": [
        "mapping to string values based on numerical for stop column"
      ]
    },
    {
      "cell_type": "code",
      "execution_count": null,
      "metadata": {
        "id": "GL7otCC3LSaq"
      },
      "outputs": [],
      "source": [
        "stop_mapping = {0: 'zero', '0': 'zero', 1: 'one', '1': 'one', 2: 'two', '2': ' two or more'}"
      ]
    },
    {
      "cell_type": "code",
      "execution_count": null,
      "metadata": {
        "id": "g_ACfBXxLSaq"
      },
      "outputs": [],
      "source": [
        "economy_df['stop'] = economy_df['stop'].replace(stop_mapping)"
      ]
    },
    {
      "cell_type": "code",
      "execution_count": null,
      "metadata": {
        "colab": {
          "base_uri": "https://localhost:8080/"
        },
        "id": "0cuHHKd5LSaq",
        "outputId": "365d3c47-1f29-4215-e705-2e6e9710eb36"
      },
      "outputs": [],
      "source": [
        "economy_df['stop'].unique()"
      ]
    },
    {
      "cell_type": "markdown",
      "metadata": {},
      "source": [
        "Converting the time_taken  in string to travel_time column with numerical values.Since more time taken the more the cost it would be generally in the real world which can be verified later."
      ]
    },
    {
      "cell_type": "code",
      "execution_count": null,
      "metadata": {
        "id": "dNe4FcaCLSaq"
      },
      "outputs": [],
      "source": [
        "def convert_to_float(time_str):\n",
        "    parts = time_str.replace('h', ' ').replace('m', '').split()\n",
        "    if len(parts) == 2:\n",
        "        return round(float(parts[0]) + float(parts[1]) / 60.0, 2)\n",
        "    elif len(parts) == 1:\n",
        "        return round(float(parts[0]), 2)\n",
        "    else:\n",
        "        return None\n",
        "\n",
        "# Apply the function to the 'time_taken' column and create a new 'time_taken_float' column\n",
        "economy_df['travel_time'] = economy_df['time_taken'].apply(convert_to_float)"
      ]
    },
    {
      "cell_type": "code",
      "execution_count": null,
      "metadata": {
        "id": "ezutpTW8LSaq"
      },
      "outputs": [],
      "source": [
        "economy_df['class']='Economy'"
      ]
    },
    {
      "cell_type": "markdown",
      "metadata": {
        "id": "BDvrpO7JLSar"
      },
      "source": [
        "# Saving the DataFrame to a CSV file without index\n",
        "economy_df.to_csv(r'C:\\Users\\Mouli\\Desktop\\Flightpirceprediction\\Flightpirceprediction\\part1.csv', index=False)\n"
      ]
    },
    {
      "cell_type": "markdown",
      "metadata": {
        "id": "kLn3QpecO6yZ"
      },
      "source": [
        "****1.3 Knowing the data (Business Class)****"
      ]
    },
    {
      "cell_type": "code",
      "execution_count": null,
      "metadata": {
        "colab": {
          "base_uri": "https://localhost:8080/",
          "height": 206
        },
        "id": "QpZhc43mPUC9",
        "outputId": "9dfdb7cb-76ae-4491-fe60-ef4bc93aa680"
      },
      "outputs": [],
      "source": [
        "business_df.head()"
      ]
    },
    {
      "cell_type": "markdown",
      "metadata": {},
      "source": [
        "Doing the same operations to clean the business dataset as done for the economy dataset"
      ]
    },
    {
      "cell_type": "code",
      "execution_count": null,
      "metadata": {
        "id": "sd2YYzXeLSar"
      },
      "outputs": [],
      "source": [
        "business_df = business_df.dropna(subset=['date'])"
      ]
    },
    {
      "cell_type": "code",
      "execution_count": null,
      "metadata": {
        "id": "_iLeiyhEPdL9"
      },
      "outputs": [],
      "source": [
        "# Convert the 'date' column to datetime with potential mixed formats and coerce errors\n",
        "business_df['date'] = pd.to_datetime(business_df['date'], format='%d-%m-%Y', dayfirst=True, errors='coerce')\n",
        "\n",
        "# Specify the target date as 10-10-2023\n",
        "target_date = datetime(2022, 2, 10)\n",
        "\n",
        "# Calculate the difference in days and store it in a new column 'days_left'\n",
        "business_df['days_left'] = (business_df['date'] - target_date).dt.days"
      ]
    },
    {
      "cell_type": "code",
      "execution_count": null,
      "metadata": {
        "colab": {
          "base_uri": "https://localhost:8080/"
        },
        "id": "cbOKE_tBPhPz",
        "outputId": "f21885be-8687-40e4-ba89-6749c6bc4048"
      },
      "outputs": [],
      "source": [
        "# Fill NaN values with 0\n",
        "business_df['days_left'] = business_df['days_left'].fillna(0).astype(int)\n",
        "\n",
        "business_df['days_left'].unique()\n",
        "\n",
        "business_df['stop'] = business_df['stop'].str.extract(r'(\\d+)\\+?-?stop')\n",
        "\n",
        "# Fill NaN values in the 'stop' column with '0'\n",
        "business_df['stop'] = business_df['stop'].fillna('0')\n",
        "# Fill NaN values in the 'stop' column with 0\n",
        "#df['stops'] = df['stops'].fillna('0')\n",
        "business_df['stop'].unique()"
      ]
    },
    {
      "cell_type": "code",
      "execution_count": null,
      "metadata": {
        "id": "jwmxyaKFPjjp"
      },
      "outputs": [],
      "source": [
        "stop_mapping = {0: 'zero', '0': 'zero', 1: 'one', '1': 'one', 2: 'two', '2': ' two or more'}\n",
        "business_df['stop'] = business_df['stop'].replace(stop_mapping)\n",
        "\n",
        "def convert_to_float(time_str):\n",
        "    parts = time_str.replace('h', ' ').replace('m', '').split()\n",
        "    if len(parts) == 2:\n",
        "        return round(float(parts[0]) + float(parts[1]) / 60.0, 2)\n",
        "    elif len(parts) == 1:\n",
        "        return round(float(parts[0]), 2)\n",
        "    else:\n",
        "        return None"
      ]
    },
    {
      "cell_type": "code",
      "execution_count": null,
      "metadata": {
        "id": "f3e05i4uPld7"
      },
      "outputs": [],
      "source": [
        "# Apply the function to the 'time_taken' column and create a new 'time_taken_float' column\n",
        "business_df['travel_time'] = business_df['time_taken'].apply(convert_to_float)\n",
        "\n",
        "\n",
        "business_df['class']='Business'"
      ]
    },
    {
      "cell_type": "code",
      "execution_count": null,
      "metadata": {},
      "outputs": [],
      "source": [
        "business_df.head()"
      ]
    },
    {
      "cell_type": "code",
      "execution_count": null,
      "metadata": {
        "id": "IrdDpDsKLSas"
      },
      "outputs": [],
      "source": [
        "# Saving the DataFrame to a CSV file without index\n",
        "business_df.to_csv(r'C:\\Users\\Mouli\\Desktop\\Flightpirceprediction\\Flightpirceprediction\\part2.csv', index=False)"
      ]
    },
    {
      "cell_type": "markdown",
      "metadata": {
        "id": "BqWwW9VHQXuE"
      },
      "source": [
        "****1.4 Loading preprocessed datasets****"
      ]
    },
    {
      "cell_type": "code",
      "execution_count": null,
      "metadata": {
        "id": "S4kxUSMQLSas"
      },
      "outputs": [],
      "source": [
        "df3 = r'C:\\Users\\Mouli\\Desktop\\Flightpirceprediction\\Flightpirceprediction\\part1.csv'\n",
        "df4 = r'C:\\Users\\Mouli\\Desktop\\Flightpirceprediction\\Flightpirceprediction\\part2.csv'"
      ]
    },
    {
      "cell_type": "code",
      "execution_count": null,
      "metadata": {
        "colab": {
          "base_uri": "https://localhost:8080/"
        },
        "id": "ze4Q0wRGLSas",
        "outputId": "8dc5ecdc-2572-424c-d218-5fdf2bc51450"
      },
      "outputs": [],
      "source": [
        "%%time\n",
        "df3 = pd.read_csv(df3,  low_memory=False)\n",
        "df4 = pd.read_csv(df4,  low_memory=False)"
      ]
    },
    {
      "cell_type": "markdown",
      "metadata": {
        "id": "ZzFaRK1sQtBF"
      },
      "source": [
        "**1.5 Merging datasets**"
      ]
    },
    {
      "cell_type": "code",
      "execution_count": null,
      "metadata": {
        "id": "nvkWZYY6LSas"
      },
      "outputs": [],
      "source": [
        "# Merge the DataFrames based on a common column (e.g., 'key_column')\n",
        "result_df = pd.concat([df3, df4], ignore_index=True)\n",
        "result_df = result_df.drop(columns=['date','ch_code','num_code'])"
      ]
    },
    {
      "cell_type": "code",
      "execution_count": null,
      "metadata": {
        "id": "aBz0tsEXLSat"
      },
      "outputs": [],
      "source": [
        "df=result_df"
      ]
    },
    {
      "cell_type": "markdown",
      "metadata": {},
      "source": [
        "categoring the departure time and arrival time to ealry morning /afternoon /evening/night based on the numerical values prresent in the flight_times"
      ]
    },
    {
      "cell_type": "code",
      "execution_count": null,
      "metadata": {
        "id": "FOVMjRKGLSat"
      },
      "outputs": [],
      "source": [
        "# Function to categorize flight times\n",
        "def categorize_flight_time(time_str):\n",
        "    time = int(time_str.replace(':', '').replace(':', ''))\n",
        "    if 0 <= time < 700:\n",
        "        return 'Early Morning'\n",
        "    elif 700 <= time < 1200:\n",
        "        return 'Morning'\n",
        "    elif 1200 <= time < 1600:\n",
        "        return 'Afternoon'\n",
        "    elif 1600 <= time < 1930:\n",
        "        return 'Evening'\n",
        "    else:\n",
        "        return 'Night'\n",
        "\n",
        "# Apply the function to create a new 'time_category' column\n",
        "df['departure_time'] = df['dep_time'].apply(categorize_flight_time)\n",
        "\n",
        "\n",
        "df['arrival_time']=df['arr_time'].apply(categorize_flight_time)\n"
      ]
    },
    {
      "cell_type": "markdown",
      "metadata": {},
      "source": [
        "Replacing the airlines data of Indian Airlines to Similar American Airlines"
      ]
    },
    {
      "cell_type": "code",
      "execution_count": null,
      "metadata": {
        "id": "HUSKUcE9LSat"
      },
      "outputs": [],
      "source": [
        "df['airline'] = df['airline'].replace('SpiceJet', 'Spirit')"
      ]
    },
    {
      "cell_type": "code",
      "execution_count": null,
      "metadata": {
        "id": "Ljv9AFisLSat"
      },
      "outputs": [],
      "source": [
        "replace_dict = {'AirAsia': 'Alaska', 'Indigo': 'Southwest', 'Vistara': 'Delta','GO_FIRST': 'United_Airlines','Air_India': 'Frontier'}\n",
        "df['airline'] = df['airline'].replace(replace_dict)\n",
        "replace_dict_cities = {'Delhi': 'Newyork', 'Mumbai': 'LasVegas', 'Bangalore': 'LosAngeles','Kolkata': 'Chicago','Hyderabad': 'Dallas','Chennai': 'Houston'}\n",
        "df['source_city'] = df['from'].replace(replace_dict_cities)\n",
        "df['destination_city'] = df['to'].replace(replace_dict_cities)"
      ]
    },
    {
      "cell_type": "code",
      "execution_count": null,
      "metadata": {
        "colab": {
          "base_uri": "https://localhost:8080/"
        },
        "id": "aGZSImnzLSat",
        "outputId": "0423bc41-7593-4544-9fcc-ba48167ab9b9"
      },
      "outputs": [],
      "source": [
        "df['price'].describe()"
      ]
    },
    {
      "cell_type": "code",
      "execution_count": null,
      "metadata": {
        "id": "DBz3-jdGLSau"
      },
      "outputs": [],
      "source": [
        "df['price'] = df['price'].str.replace(',', '', regex=True)  # Remove commas\n",
        "df['price'] = pd.to_numeric(df['price'], errors='coerce')"
      ]
    },
    {
      "cell_type": "markdown",
      "metadata": {},
      "source": [
        "Converting the price in Indian Rupees to American Dollars(1 USD=80 INR approximately)"
      ]
    },
    {
      "cell_type": "code",
      "execution_count": null,
      "metadata": {
        "id": "122aVQ7HLSau"
      },
      "outputs": [],
      "source": [
        "df['price']=df['price']/80"
      ]
    },
    {
      "cell_type": "code",
      "execution_count": null,
      "metadata": {
        "colab": {
          "base_uri": "https://localhost:8080/"
        },
        "id": "8UFP7J7iLSa2",
        "outputId": "5fb5ba55-55cc-4c3c-eca9-d420e594e530"
      },
      "outputs": [],
      "source": [
        "df['price'].head"
      ]
    },
    {
      "cell_type": "code",
      "execution_count": null,
      "metadata": {
        "colab": {
          "base_uri": "https://localhost:8080/"
        },
        "id": "lEhvqwQ3LSa2",
        "outputId": "3c4b0726-f6c3-4fc4-947e-0d7d46c3b53f"
      },
      "outputs": [],
      "source": [
        "df['price'].unique()"
      ]
    },
    {
      "cell_type": "markdown",
      "metadata": {},
      "source": [
        "Renaming the column names"
      ]
    },
    {
      "cell_type": "code",
      "execution_count": null,
      "metadata": {
        "id": "0U3dObiPLSa2"
      },
      "outputs": [],
      "source": [
        "replace_dict = {'from': 'Source_City', 'to': 'Destination_City'}"
      ]
    },
    {
      "cell_type": "code",
      "execution_count": null,
      "metadata": {
        "id": "AjDquwwELSa2"
      },
      "outputs": [],
      "source": [
        "df = df.drop(columns=['from','to'])"
      ]
    },
    {
      "cell_type": "markdown",
      "metadata": {},
      "source": [
        "Obtaining the final cleaned csv "
      ]
    },
    {
      "cell_type": "code",
      "execution_count": null,
      "metadata": {
        "id": "Q9tHQRT8LSa2"
      },
      "outputs": [],
      "source": [
        "df = r'C:\\Cleaned.csv'"
      ]
    },
    {
      "cell_type": "code",
      "execution_count": null,
      "metadata": {
        "colab": {
          "base_uri": "https://localhost:8080/"
        },
        "id": "Rur1Y1W4LSa3",
        "outputId": "0c732c82-d23c-4480-bfd8-a665d4ad91a5"
      },
      "outputs": [],
      "source": [
        "%%time\n",
        "df = pd.read_csv(df,  low_memory=False)"
      ]
    },
    {
      "cell_type": "markdown",
      "metadata": {},
      "source": [
        "Findind the missing values in the cleaned dataset"
      ]
    },
    {
      "cell_type": "code",
      "execution_count": null,
      "metadata": {},
      "outputs": [],
      "source": [
        "df.head()"
      ]
    },
    {
      "cell_type": "code",
      "execution_count": null,
      "metadata": {
        "colab": {
          "base_uri": "https://localhost:8080/"
        },
        "id": "GKGsJe0ALSa3",
        "outputId": "f22fa944-f54f-46b7-a0e5-ba0f1a3185c2"
      },
      "outputs": [],
      "source": [
        "df.isnull().sum()"
      ]
    },
    {
      "cell_type": "markdown",
      "metadata": {},
      "source": [
        "There are no missing values in the cleaned dataset now .id there are any in any column we can drop using the command shown in the below cell.if there are null rows present in price column ,then we can drop the rows using the below command."
      ]
    },
    {
      "cell_type": "code",
      "execution_count": null,
      "metadata": {},
      "outputs": [],
      "source": [
        "df.shape"
      ]
    },
    {
      "cell_type": "code",
      "execution_count": null,
      "metadata": {},
      "outputs": [],
      "source": [
        "df = df.dropna(subset=['price'])"
      ]
    },
    {
      "cell_type": "code",
      "execution_count": null,
      "metadata": {},
      "outputs": [],
      "source": [
        "df.shape"
      ]
    },
    {
      "cell_type": "markdown",
      "metadata": {},
      "source": [
        "Performing Data visualisation "
      ]
    },
    {
      "cell_type": "code",
      "execution_count": null,
      "metadata": {
        "colab": {
          "base_uri": "https://localhost:8080/",
          "height": 542
        },
        "id": "NtpmlKLzLSa3",
        "outputId": "5e025dc5-8109-4d6f-e6e5-0c5d9a67d977"
      },
      "outputs": [],
      "source": [
        "fig = px.box(df, x=\"airline\", y=\"price\", color=\"class\" ,color_discrete_map={ \"Business\": \"green\", \"Economy\": \"orange\"})\n",
        "fig.show()"
      ]
    },
    {
      "cell_type": "markdown",
      "metadata": {},
      "source": [
        "Plotting Box Whisker plot for the price variable"
      ]
    },
    {
      "cell_type": "code",
      "execution_count": null,
      "metadata": {
        "colab": {
          "base_uri": "https://localhost:8080/",
          "height": 466
        },
        "id": "YLqPDBoQLSa3",
        "outputId": "53786fdb-448f-47a9-b439-ee1ee5a3bd92"
      },
      "outputs": [],
      "source": [
        "sns.boxplot(x=df[\"price\"])"
      ]
    },
    {
      "cell_type": "markdown",
      "metadata": {},
      "source": [
        "We can observe there are some outliers that lies above the 75th percentile and we will use zscore >3 to judge whether there are really potential outliers in the price column"
      ]
    },
    {
      "cell_type": "code",
      "execution_count": null,
      "metadata": {},
      "outputs": [],
      "source": [
        "df.price.info()"
      ]
    },
    {
      "cell_type": "code",
      "execution_count": null,
      "metadata": {},
      "outputs": [],
      "source": [
        "df.price.describe()"
      ]
    },
    {
      "cell_type": "code",
      "execution_count": null,
      "metadata": {},
      "outputs": [],
      "source": [
        "Q1 = df['price'].quantile(0.25)\n",
        "Q3 = df['price'].quantile(0.75)\n",
        "IQR = Q3 - Q1\n",
        "\n",
        "# Define the lower and upper bounds for potential outliers\n",
        "lower_bound = Q1 - 1.5 * IQR\n",
        "upper_bound = Q3 + 1.5 * IQR\n",
        "\n",
        "# Identify potential outliers\n",
        "outliers = df[(df['price'] < lower_bound) | (df['price'] > upper_bound)]\n",
        "\n",
        "# Display the potential outliers\n",
        "print(\"Potential Outliers:\")\n",
        "print(outliers)"
      ]
    },
    {
      "cell_type": "markdown",
      "metadata": {},
      "source": [
        "To check for outliers in better way we implement z-score >3 and detect the number of rows which contain price outliers "
      ]
    },
    {
      "cell_type": "code",
      "execution_count": null,
      "metadata": {},
      "outputs": [],
      "source": [
        "from scipy.stats import zscore\n",
        "df['z_score'] = zscore(df['price'])\n",
        "\n",
        "# Identify potential outliers with Z-score greater than 3 or less than -3\n",
        "potential_outliers = df[abs(df['z_score']) > 3]\n",
        "\n",
        "# Display the potential outliers\n",
        "print(\"Potential Outliers:\")\n",
        "print(potential_outliers)"
      ]
    },
    {
      "cell_type": "markdown",
      "metadata": {},
      "source": [
        "602 ROWS contain price outliers here "
      ]
    },
    {
      "cell_type": "code",
      "execution_count": null,
      "metadata": {},
      "outputs": [],
      "source": [
        "df.shape"
      ]
    },
    {
      "cell_type": "code",
      "execution_count": null,
      "metadata": {},
      "outputs": [],
      "source": [
        "df['z_score'] = zscore(df['price'])\n",
        "\n",
        "# Identify potential outliers with Z-score greater than 3 or less than -3\n",
        "potential_outliers = df[abs(df['z_score']) > 3]\n",
        "\n",
        "# Drop rows with potential outliers\n",
        "df = df.drop(potential_outliers.index)"
      ]
    },
    {
      "cell_type": "markdown",
      "metadata": {},
      "source": [
        "Dropping rows with price outliers .The code is performed without dropping the price outliers and the same random forest regressor gave the highest accuracy but with dropping these columns gave higher accuracy than the former.df.shape"
      ]
    },
    {
      "cell_type": "code",
      "execution_count": null,
      "metadata": {},
      "outputs": [],
      "source": [
        "print('no of rows deleted ')\n",
        "300261-299659"
      ]
    },
    {
      "cell_type": "markdown",
      "metadata": {},
      "source": [
        "Performing using Univariate analysis for price and travel_time"
      ]
    },
    {
      "cell_type": "markdown",
      "metadata": {},
      "source": [
        "Checking the probability density plot using KDE(Kernel Density Estimate) for continous variable travel_time"
      ]
    },
    {
      "cell_type": "code",
      "execution_count": null,
      "metadata": {
        "colab": {
          "base_uri": "https://localhost:8080/",
          "height": 467
        },
        "id": "lKlwfT3OLSa3",
        "outputId": "ac8b93e1-aa93-4a1a-b803-d07096e5e9c0"
      },
      "outputs": [],
      "source": [
        "sns.kdeplot(data= df, x=\"travel_time\")"
      ]
    },
    {
      "cell_type": "code",
      "execution_count": null,
      "metadata": {
        "colab": {
          "base_uri": "https://localhost:8080/",
          "height": 466
        },
        "id": "ge78LXtpLSa4",
        "outputId": "211fabc9-97c4-4985-9db3-10e9325439ee"
      },
      "outputs": [],
      "source": [
        "sns.kdeplot(data= df, x=\"price\")"
      ]
    },
    {
      "cell_type": "markdown",
      "metadata": {},
      "source": [
        "Checking the probability density plot using KDE(Kernel Density Estimate) for continous variable price and we can see majority of the value lies below 400."
      ]
    },
    {
      "cell_type": "markdown",
      "metadata": {},
      "source": [
        "Performing BiVariate analysis"
      ]
    },
    {
      "cell_type": "markdown",
      "metadata": {},
      "source": [
        "Grouping the data by the 'airline' column, calculating the sum of prices for each airline, sorting the results in descending order,"
      ]
    },
    {
      "cell_type": "code",
      "execution_count": null,
      "metadata": {
        "colab": {
          "base_uri": "https://localhost:8080/",
          "height": 482
        },
        "id": "D2nsN9-ALSa4",
        "outputId": "36c610d9-92e8-486f-c0d5-3de5228e366a"
      },
      "outputs": [],
      "source": [
        "airline_price_data = df.groupby('airline')['price'].sum().sort_values(ascending=False)\n",
        "airline_price_data\n",
        "sns.barplot(x=airline_price_data.index, y=airline_price_data.values)"
      ]
    },
    {
      "cell_type": "markdown",
      "metadata": {},
      "source": [
        " KDE plot for  'price' variable.  'Price' variable will be plotted on the x-axis. The hue='airline' argument adds color based on the 'airline' variable for different airlines"
      ]
    },
    {
      "cell_type": "code",
      "execution_count": null,
      "metadata": {
        "colab": {
          "base_uri": "https://localhost:8080/",
          "height": 358
        },
        "id": "XUgCNj8lLSa4",
        "outputId": "454b1bd9-809d-48f5-aa2c-a1e9010bae11"
      },
      "outputs": [],
      "source": [
        "plt.figure(figsize=(30, 6))\n",
        "sns.kdeplot(data=df, x='price', hue='airline')"
      ]
    },
    {
      "cell_type": "code",
      "execution_count": null,
      "metadata": {
        "colab": {
          "base_uri": "https://localhost:8080/",
          "height": 1000
        },
        "id": "v_I1E_qLLSa4",
        "outputId": "f01877be-9f03-479a-9401-f3df243070f9"
      },
      "outputs": [],
      "source": [
        "df_days_left = df.groupby(['days_left'])['price'].mean().reset_index()\n",
        "df_days_left"
      ]
    },
    {
      "cell_type": "markdown",
      "metadata": {},
      "source": [
        "Scatter plot for price vs days_left as we can see from the below plot the number of days left increases for the booking of the flight  from the current_date ,the price decreases usually"
      ]
    },
    {
      "cell_type": "code",
      "execution_count": null,
      "metadata": {
        "colab": {
          "base_uri": "https://localhost:8080/",
          "height": 467
        },
        "id": "u6Mzfm03LSa4",
        "outputId": "656ba02e-be85-4a4b-c60f-b6465ec61260"
      },
      "outputs": [],
      "source": [
        "sns.scatterplot(x=\"days_left\", y=\"price\", data=df_days_left)"
      ]
    },
    {
      "cell_type": "markdown",
      "metadata": {},
      "source": [
        "We can see from the below plot the number of days left for the travel  increases the price increases and there is a spike in the lower side of the days left ,so this wont be a hard guess but not to be trained and predicted by a good model which can intrepret the complexities present in the price date."
      ]
    },
    {
      "cell_type": "code",
      "execution_count": null,
      "metadata": {
        "colab": {
          "base_uri": "https://localhost:8080/",
          "height": 447
        },
        "id": "b24xeyGGLSa5",
        "outputId": "187f1337-7dcf-4645-a59d-2a3749b409b2"
      },
      "outputs": [],
      "source": [
        "plt.plot(df_days_left['days_left'],df_days_left['price'])"
      ]
    },
    {
      "cell_type": "markdown",
      "metadata": {},
      "source": [
        "Analysing the spike for each airlines by plotting between price and different airlines and number of days left =1 or 2."
      ]
    },
    {
      "cell_type": "code",
      "execution_count": null,
      "metadata": {
        "colab": {
          "base_uri": "https://localhost:8080/",
          "height": 466
        },
        "id": "aW0MRil-LSa5",
        "outputId": "da03deb7-a483-4bba-b146-07b7ef1972a0"
      },
      "outputs": [],
      "source": [
        "filtered_data = df[df['days_left'].isin([1, 2])]\n",
        "sns.pointplot(data=filtered_data, x='airline', y='price', hue='days_left')"
      ]
    },
    {
      "cell_type": "markdown",
      "metadata": {},
      "source": [
        "The average values of prices for departure_time and arrival_time for the airlines ."
      ]
    },
    {
      "cell_type": "code",
      "execution_count": null,
      "metadata": {
        "colab": {
          "base_uri": "https://localhost:8080/"
        },
        "id": "zS0SgHAFLSa5",
        "outputId": "eeacf84e-f0aa-4600-f5a4-0b759b2e87c1"
      },
      "outputs": [],
      "source": [
        "grouped_data = df.groupby(['departure_time','arrival_time'])['price'].mean().sort_values(ascending=False)\n",
        "grouped_data"
      ]
    },
    {
      "cell_type": "code",
      "execution_count": null,
      "metadata": {},
      "outputs": [],
      "source": []
    },
    {
      "cell_type": "markdown",
      "metadata": {},
      "source": [
        "The below plot based on the group data shows that during (Night,evening) is stastically highest and during (Night,Early Morning) it is usually lower.This can be usually correct since people find it easy to travel during  Evening and night than compared to night and early morning it is usually lower."
      ]
    },
    {
      "cell_type": "code",
      "execution_count": null,
      "metadata": {
        "colab": {
          "base_uri": "https://localhost:8080/",
          "height": 525
        },
        "id": "mAmfhD0oLSa5",
        "outputId": "7cf531d0-4e6e-4b91-e82f-83f9f167356a"
      },
      "outputs": [],
      "source": [
        "fig = plt.figure(figsize = (8, 3))\n",
        "grouped_data.plot(kind='bar')"
      ]
    },
    {
      "cell_type": "code",
      "execution_count": null,
      "metadata": {
        "colab": {
          "base_uri": "https://localhost:8080/"
        },
        "id": "qqZFsjCXLSa5",
        "outputId": "ef60eadb-2c5f-4552-b277-33861e057f92"
      },
      "outputs": [],
      "source": [
        "grouped_data_dep = df.groupby(['departure_time'])['price'].mean().sort_values(ascending=False)\n",
        "grouped_data_dep"
      ]
    },
    {
      "cell_type": "markdown",
      "metadata": {},
      "source": [
        "Plot for price and departure_time .It can be inferred that when the departing time is in the early morning ,it is less demand and during night and morning it is in more demand and expensive since lot of people prefer these timings to be comfortable"
      ]
    },
    {
      "cell_type": "code",
      "execution_count": null,
      "metadata": {
        "colab": {
          "base_uri": "https://localhost:8080/",
          "height": 548
        },
        "id": "txnvSIAVLSa6",
        "outputId": "10913200-4a53-4dd8-b3dd-f995243db30c"
      },
      "outputs": [],
      "source": [
        "grouped_data_dep.plot(kind='bar')"
      ]
    },
    {
      "cell_type": "markdown",
      "metadata": {},
      "source": [
        "Plot for price and departure_time .It can be inferred that the business class is almost same higher at all timings but economy class can vary during various times nd reach higher prices during evening  and morning times with denser numbers from the blox plot."
      ]
    },
    {
      "cell_type": "code",
      "execution_count": null,
      "metadata": {
        "colab": {
          "base_uri": "https://localhost:8080/",
          "height": 542
        },
        "id": "p2LuY72nLSa6",
        "outputId": "7e19d23a-8808-4b8e-c696-eeade05e5893"
      },
      "outputs": [],
      "source": [
        "fig = px.box(df, x=\"departure_time\", y=\"price\", color=\"class\")\n",
        "fig.show()"
      ]
    },
    {
      "cell_type": "code",
      "execution_count": null,
      "metadata": {
        "colab": {
          "base_uri": "https://localhost:8080/"
        },
        "id": "Vg3P1q66LSa6",
        "outputId": "bba0bf32-c7a8-497d-b8e9-f64df7d28391"
      },
      "outputs": [],
      "source": [
        "grouped_data_arr = df.groupby(['arrival_time'])['price'].mean().sort_values(ascending=False)\n",
        "grouped_data_arr"
      ]
    },
    {
      "cell_type": "markdown",
      "metadata": {},
      "source": [
        "Plot for price and arrival_time .It can be inferred that when the arrival time is in the early morning ,it is less demand and during night and evening  it is in more demand and expensive since lot of people prefer these timings to be comfortable.Therefore customers tend to travel and arrive during nights and evenings rather than early mornings"
      ]
    },
    {
      "cell_type": "code",
      "execution_count": null,
      "metadata": {
        "colab": {
          "base_uri": "https://localhost:8080/",
          "height": 548
        },
        "id": "t66GoajjLSa6",
        "outputId": "c45423f7-2ec4-406b-c54d-8248dc487110"
      },
      "outputs": [],
      "source": [
        "grouped_data_arr.plot(kind='bar')"
      ]
    },
    {
      "cell_type": "markdown",
      "metadata": {},
      "source": [
        "Similar to departure_time this trend of business class is almost similar in average price in all timings where as economy class tends to variate and reach more denser and higher during night arrivals from the box plot."
      ]
    },
    {
      "cell_type": "code",
      "execution_count": null,
      "metadata": {
        "colab": {
          "base_uri": "https://localhost:8080/",
          "height": 542
        },
        "id": "YGB4iHj5LSa6",
        "outputId": "4f3b0aee-23aa-4ff3-e75d-d6f325c5ca24"
      },
      "outputs": [],
      "source": [
        "fig = px.box(df, x=\"arrival_time\", y=\"price\", color=\"class\")\n",
        "fig.show()"
      ]
    },
    {
      "cell_type": "code",
      "execution_count": null,
      "metadata": {
        "colab": {
          "base_uri": "https://localhost:8080/"
        },
        "id": "d0DWI02uLSa6",
        "outputId": "c1ddcd37-4592-4926-e360-2b7cd484e1a7"
      },
      "outputs": [],
      "source": [
        "grouped_data_city = df.groupby(['source_city','destination_city'])['price'].mean().sort_values(ascending=False)\n",
        "grouped_data_city"
      ]
    },
    {
      "cell_type": "markdown",
      "metadata": {},
      "source": [
        "From the below bar graph ,the prices between certain routes like (Hosuton,LA),(Chicago,Houston) are more expensive and (Dallas and NY ) are less expensive and might be less busier or less in demand on average."
      ]
    },
    {
      "cell_type": "code",
      "execution_count": null,
      "metadata": {
        "colab": {
          "base_uri": "https://localhost:8080/",
          "height": 477
        },
        "id": "r8qz6ptoLSa7",
        "outputId": "589141d2-28a3-49c1-9a57-3ba43cdfbd7d"
      },
      "outputs": [],
      "source": [
        "fig = plt.figure(figsize = (8, 3))\n",
        "grouped_data_city.plot(kind='bar')"
      ]
    },
    {
      "cell_type": "code",
      "execution_count": null,
      "metadata": {
        "colab": {
          "base_uri": "https://localhost:8080/"
        },
        "id": "dxgat-SnLSa7",
        "outputId": "d6636a5f-c12f-4c32-90e5-e8f1a8e6dd97"
      },
      "outputs": [],
      "source": [
        "grouped_data_src = df.groupby(['source_city'])['price'].mean().sort_values(ascending=False)\n",
        "grouped_data_src\n"
      ]
    },
    {
      "cell_type": "markdown",
      "metadata": {},
      "source": [
        "The plot indicates that Flights with certain source_destinations like Hosuton,Chicago  are  slightly higher  than Newyork on average"
      ]
    },
    {
      "cell_type": "code",
      "execution_count": null,
      "metadata": {},
      "outputs": [],
      "source": [
        "fig = plt.figure(figsize = (8, 3))\n",
        "grouped_data_src.plot(kind='bar')"
      ]
    },
    {
      "cell_type": "code",
      "execution_count": null,
      "metadata": {
        "colab": {
          "base_uri": "https://localhost:8080/"
        },
        "id": "Phen0Do9LSa7",
        "outputId": "b198ac85-aa86-4c5d-feda-9991e72fb89f"
      },
      "outputs": [],
      "source": [
        "grouped_data_dest = df.groupby(['destination_city'])['price'].mean().sort_values(ascending=False)\n",
        "grouped_data_dest"
      ]
    },
    {
      "cell_type": "markdown",
      "metadata": {},
      "source": [
        "And the similar trend for flights for destination_city and average prices."
      ]
    },
    {
      "cell_type": "code",
      "execution_count": null,
      "metadata": {},
      "outputs": [],
      "source": [
        "fig = plt.figure(figsize = (8, 3))\n",
        "grouped_data_dest.plot(kind='bar')"
      ]
    },
    {
      "cell_type": "code",
      "execution_count": null,
      "metadata": {
        "colab": {
          "base_uri": "https://localhost:8080/"
        },
        "id": "W_fq0u5nLSa8",
        "outputId": "1e93fee6-8f56-4305-e140-e64b6f219888"
      },
      "outputs": [],
      "source": [
        "grouped_data_city_dur = df.groupby(['source_city','destination_city'])['travel_time'].mean().sort_values(ascending=False)\n",
        "grouped_data_city_dur"
      ]
    },
    {
      "cell_type": "markdown",
      "metadata": {},
      "source": [
        "This is plot between source,destination cities and travel time and from the plot we can infer the travel time between certain cities is slightly higher  than (LA,NY) may be owing to intentional layovers ."
      ]
    },
    {
      "cell_type": "code",
      "execution_count": null,
      "metadata": {},
      "outputs": [],
      "source": [
        "fig = plt.figure(figsize = (8, 3))\n",
        "grouped_data_city_dur.plot(kind='bar')"
      ]
    },
    {
      "cell_type": "markdown",
      "metadata": {},
      "source": [
        "The below plot gives the  average price variaton for business and economy class with business class leading to higher prices which is true generally."
      ]
    },
    {
      "cell_type": "code",
      "execution_count": null,
      "metadata": {
        "colab": {
          "base_uri": "https://localhost:8080/",
          "height": 447
        },
        "id": "5iKINghnLSa8",
        "outputId": "6448b648-047e-42b9-8615-cf045a41328f"
      },
      "outputs": [],
      "source": [
        "grouped_data_class = df.groupby('class')['price'].mean()\n",
        "\n",
        "plt.bar(grouped_data_class.index, grouped_data_class)"
      ]
    },
    {
      "cell_type": "markdown",
      "metadata": {},
      "source": [
        "This contains different airlines providing flights with different average prices with economy and business classess."
      ]
    },
    {
      "cell_type": "code",
      "execution_count": null,
      "metadata": {
        "colab": {
          "base_uri": "https://localhost:8080/",
          "height": 466
        },
        "id": "ukoq-gw7LSa8",
        "outputId": "ad6f372a-31dc-4092-ac65-fe77eb55432f"
      },
      "outputs": [],
      "source": [
        "sns.barplot(x='airline',y='price',hue=\"class\", data =df)"
      ]
    },
    {
      "cell_type": "code",
      "execution_count": null,
      "metadata": {
        "colab": {
          "base_uri": "https://localhost:8080/",
          "height": 143
        },
        "id": "zfTh4ir9LSa9",
        "outputId": "32fa3805-b45d-4c8e-8b6c-97c6b8b0e41f"
      },
      "outputs": [],
      "source": [
        "average_price_by_stops = df.groupby('stop')['price'].mean().reset_index()\n",
        "average_price_by_stops"
      ]
    },
    {
      "cell_type": "markdown",
      "metadata": {},
      "source": [
        "PLot for layovers and  average price and if the number of stops is one then the prices will be higher and less with zero stops and surprisingly little lesser with two or more stops when comapred with one stop."
      ]
    },
    {
      "cell_type": "code",
      "execution_count": null,
      "metadata": {
        "colab": {
          "base_uri": "https://localhost:8080/",
          "height": 471
        },
        "id": "9-TFNMTfLSa9",
        "outputId": "1ee404e8-581c-42ca-d6af-16965849d5a5"
      },
      "outputs": [],
      "source": [
        "sns.barplot(data=average_price_by_stops, x='stop', y='price')"
      ]
    },
    {
      "cell_type": "markdown",
      "metadata": {},
      "source": [
        "with two or more stops when comapred with one stop sometimes the average prices seems to reach higher which is usually  higher in outside world"
      ]
    },
    {
      "cell_type": "code",
      "execution_count": null,
      "metadata": {
        "colab": {
          "base_uri": "https://localhost:8080/",
          "height": 469
        },
        "id": "o1-S58jKLSa9",
        "outputId": "24e0e96e-06e5-480b-8480-5fefb9241295"
      },
      "outputs": [],
      "source": [
        "sns.boxplot(x='stop',y='price',data=df,palette='viridis')"
      ]
    },
    {
      "cell_type": "code",
      "execution_count": null,
      "metadata": {
        "colab": {
          "base_uri": "https://localhost:8080/",
          "height": 466
        },
        "id": "2QwTG_veLSa9",
        "outputId": "c2e693a9-bb21-4400-acdd-f6b7971043d4"
      },
      "outputs": [],
      "source": [
        "sns.kdeplot(data=df,x= 'price', hue='stop')"
      ]
    },
    {
      "cell_type": "code",
      "execution_count": null,
      "metadata": {
        "colab": {
          "base_uri": "https://localhost:8080/",
          "height": 424
        },
        "id": "-IhVECHpLSa9",
        "outputId": "9f114c80-85a3-4d42-bda4-3c15df230a8c"
      },
      "outputs": [],
      "source": [
        "airline_flights_price= df.groupby(['airline','source_city','destination_city'])['price'].mean().sort_values(ascending=False).reset_index()\n",
        "airline_flights_price= pd.DataFrame(airline_flights_price)\n",
        "airline_flights_price"
      ]
    },
    {
      "cell_type": "code",
      "execution_count": null,
      "metadata": {
        "id": "NLtiUUv0LSa9"
      },
      "outputs": [],
      "source": [
        "flightdf=df"
      ]
    },
    {
      "cell_type": "code",
      "execution_count": null,
      "metadata": {
        "colab": {
          "base_uri": "https://localhost:8080/",
          "height": 619
        },
        "id": "n5bWnptILSa-",
        "outputId": "d59a7ef5-5c35-4f76-bf6d-f631d7ff41f4"
      },
      "outputs": [],
      "source": [
        "flightdf_temp = flightdf.groupby(['days_left'])['price'].mean().reset_index()\n",
        "plt.figure(figsize=(15,6)).suptitle('Airline prices based on days left before buying the ticket', fontsize=16)\n",
        "ax = plt.axes()\n",
        "sns.regplot(x=flightdf_temp.loc[flightdf_temp[\"days_left\"]==1].days_left, y=flightdf_temp.loc[flightdf_temp[\"days_left\"]==1].price, fit_reg=False, ax=ax)\n",
        "sns.regplot(x=flightdf_temp.loc[(flightdf_temp[\"days_left\"]>1)&(flightdf_temp[\"days_left\"]<20)].days_left, y=flightdf_temp.loc[(flightdf_temp[\"days_left\"]>1)&(flightdf_temp[\"days_left\"]<20)].price, fit_reg=True, ax=ax)\n",
        "sns.regplot(x=flightdf_temp.loc[flightdf_temp[\"days_left\"]>=20].days_left, y=flightdf_temp.loc[flightdf_temp[\"days_left\"]>=20].price, fit_reg=True, ax=ax)"
      ]
    },
    {
      "cell_type": "markdown",
      "metadata": {},
      "source": [
        "Plot for no of days_left and price and follows the similar trend as explained before "
      ]
    },
    {
      "cell_type": "code",
      "execution_count": null,
      "metadata": {
        "colab": {
          "base_uri": "https://localhost:8080/",
          "height": 506
        },
        "id": "WIYUln9LLSa-",
        "outputId": "9aeb9713-d81c-4127-e4b0-afb1d1974d90"
      },
      "outputs": [],
      "source": [
        "plt.figure(figsize = (18,5))\n",
        "plt.subplot(1,2,1)\n",
        "sns.boxplot(data=flightdf, y=\"price\", x=\"departure_time\",showfliers=False).set_title(\"Airline prices based on the departure time\",fontsize=15)\n",
        "plt.subplot(1,2,2)\n",
        "sns.boxplot(data=flightdf, y=\"price\", x=\"arrival_time\",showfliers=False).set_title(\"Airline prices based on the arrival time\",fontsize=15)"
      ]
    },
    {
      "cell_type": "code",
      "execution_count": null,
      "metadata": {
        "colab": {
          "base_uri": "https://localhost:8080/",
          "height": 1000
        },
        "id": "wffB7WQtLSa-",
        "outputId": "12552b8b-22f4-4f14-c408-7ae9b246dda3"
      },
      "outputs": [],
      "source": [
        "ax = sns.relplot(col=\"source_city\", y=\"price\", kind=\"line\",x='destination_city', data=flightdf, col_wrap=3)\n",
        "ax.fig.subplots_adjust(top=0.9) # adjust the Figure in rp\n",
        "ax.fig.suptitle('Airline prices based on the source and destination cities',fontsize=20)"
      ]
    },
    {
      "cell_type": "markdown",
      "metadata": {},
      "source": [
        "The above plots indicating the trends as explained before in the bar graphs"
      ]
    },
    {
      "cell_type": "code",
      "execution_count": null,
      "metadata": {
        "colab": {
          "base_uri": "https://localhost:8080/",
          "height": 378
        },
        "id": "Il0x79jFLSa-",
        "outputId": "4f9c27a4-0ccb-4037-bce4-b6855917a6e4"
      },
      "outputs": [],
      "source": [
        "fig, axs = plt.subplots (1, 2, gridspec_kw={'width_ratios': [5, 3]}, figsize=(25, 5))\n",
        "sns.barplot(y = \"price\", x = \"airline\",hue=\"stop\",data = flightdf.loc[flightdf[\"class\"]=='Economy'].sort_values(\"price\", ascending = False), ax=axs[0])\n",
        "axs[0].set_title(\"Airline prices based on the number of stops  for economy\",fontsize=20)\n",
        "sns.barplot(y = \"price\", x = \"airline\",hue=\"stop\",data = flightdf.loc[flightdf[\"class\"]=='Business'].sort_values(\"price\", ascending = False), ax=axs[1])\n",
        "axs[1].set_title(\"Airline prices based on the number of stops  for business\",fontsize=20)"
      ]
    },
    {
      "cell_type": "code",
      "execution_count": null,
      "metadata": {
        "colab": {
          "base_uri": "https://localhost:8080/"
        },
        "id": "JmmPz8sPLSa-",
        "outputId": "2c2dd964-dfc3-4e16-a594-8c43628cc66e"
      },
      "outputs": [],
      "source": [
        "flightdf.info()"
      ]
    },
    {
      "cell_type": "markdown",
      "metadata": {},
      "source": [
        "Performing label encoding for categorical values for further evaluation and feature selection"
      ]
    },
    {
      "cell_type": "code",
      "execution_count": null,
      "metadata": {
        "id": "9BQDS_PPLSa_"
      },
      "outputs": [],
      "source": [
        "from sklearn.preprocessing import LabelEncoder"
      ]
    },
    {
      "cell_type": "code",
      "execution_count": null,
      "metadata": {
        "id": "_wR8CdOcLSa_"
      },
      "outputs": [],
      "source": [
        "le = LabelEncoder()"
      ]
    },
    {
      "cell_type": "code",
      "execution_count": null,
      "metadata": {
        "colab": {
          "base_uri": "https://localhost:8080/"
        },
        "id": "jvr_7aRCLSa_",
        "outputId": "c1907cbd-25cb-4b27-cf60-377011d821be"
      },
      "outputs": [],
      "source": [
        "flightdf.info()"
      ]
    },
    {
      "cell_type": "code",
      "execution_count": null,
      "metadata": {
        "id": "umqXG6VqLSa_"
      },
      "outputs": [],
      "source": [
        "\n",
        "cat_cols =['airline','source_city','departure_time', 'stop','arrival_time','destination_city','class']\n",
        "\n",
        "# Copy the DataFrame\n",
        "finaldf = flightdf.copy()\n",
        "flightdf_orginal = flightdf.copy()"
      ]
    },
    {
      "cell_type": "code",
      "execution_count": null,
      "metadata": {
        "colab": {
          "base_uri": "https://localhost:8080/"
        },
        "id": "JvXwYUF2LSa_",
        "outputId": "3b44f895-1677-4a2f-fbdb-5dbc06293249"
      },
      "outputs": [],
      "source": [
        "\n",
        "# Apply label encoding to the specified columns\n",
        "flightdf[cat_cols] = flightdf[cat_cols].apply(le.fit_transform)\n",
        "\n",
        "\n",
        "# Display unique encoded values for each categorical column for Data Preprocessing in the Model deployment stage.\n",
        "for column in cat_cols:\n",
        "    unique_encoded_values = flightdf[column].unique()\n",
        "    print(f\"Unique encoded values for column '{column}' {flightdf_orginal[column].unique()} : {unique_encoded_values}\")"
      ]
    },
    {
      "cell_type": "markdown",
      "metadata": {},
      "source": [
        "The categorical values are now encoded to numerics"
      ]
    },
    {
      "cell_type": "code",
      "execution_count": null,
      "metadata": {
        "colab": {
          "base_uri": "https://localhost:8080/"
        },
        "id": "NimjUhGuLSa_",
        "outputId": "058d0458-7587-45e4-a7a0-7f60674f14d3"
      },
      "outputs": [],
      "source": [
        "flightdf.info()"
      ]
    },
    {
      "cell_type": "markdown",
      "metadata": {},
      "source": [
        "Dropping dep_time and arr_time since their aliases are already present as depature_time and arrival_time for analysis"
      ]
    },
    {
      "cell_type": "code",
      "execution_count": null,
      "metadata": {
        "id": "0sC06C4OLSbA"
      },
      "outputs": [],
      "source": [
        "df.drop('dep_time', axis=1, inplace=True)"
      ]
    },
    {
      "cell_type": "code",
      "execution_count": null,
      "metadata": {
        "id": "okK7mq0gLSbA"
      },
      "outputs": [],
      "source": [
        "df.drop('arr_time', axis=1, inplace=True)"
      ]
    },
    {
      "cell_type": "code",
      "execution_count": null,
      "metadata": {
        "colab": {
          "base_uri": "https://localhost:8080/"
        },
        "id": "1hjBFqOELSbA",
        "outputId": "7621e1f1-1423-47e1-ec0d-5895ec29befb"
      },
      "outputs": [],
      "source": [
        "flightdf.info()"
      ]
    },
    {
      "cell_type": "code",
      "execution_count": null,
      "metadata": {
        "id": "0d9VBzlMLSbA"
      },
      "outputs": [],
      "source": [
        "df.drop('time_taken', axis=1, inplace=True)"
      ]
    },
    {
      "cell_type": "markdown",
      "metadata": {},
      "source": [
        "Dropped the time_taken column since travel_time column is present which actually mean the same thing."
      ]
    },
    {
      "cell_type": "code",
      "execution_count": null,
      "metadata": {
        "colab": {
          "base_uri": "https://localhost:8080/",
          "height": 932
        },
        "id": "8KSWk5dELSbA",
        "outputId": "df1aa045-4af9-4546-eaab-4f43a2467664"
      },
      "outputs": [],
      "source": [
        "plt.figure(figsize=(10,10))\n",
        "sns.heatmap(flightdf.corr(), annot = True, fmt=\".2f\")\n",
        "plt.show()"
      ]
    },
    {
      "cell_type": "markdown",
      "metadata": {},
      "source": [
        "Plotting a corrleation matrix and we can infer the variables class has negative corelation since we gave the business class as zero in the encoding and economy class as one in the encoding.The travel_time has positive correlation and no of stops also has negative corelation and certain destination and arrival cities have positive corelation due to values they got in encoding"
      ]
    },
    {
      "cell_type": "code",
      "execution_count": null,
      "metadata": {},
      "outputs": [],
      "source": [
        "from sklearn.feature_selection import SelectKBest, f_regression\n",
        "\n",
        "# Split the dataset into features (X) and the target variable (Y)\n",
        "Y = flightdf[\"price\"]\n",
        "X = flightdf.drop([\"price\"], axis=1)\n",
        "\n",
        "# Feature selection using F-statistic (ANOVA)\n",
        "num_features_to_select = 9  # Number of features to select\n",
        "selected_features = SelectKBest(f_regression, k=num_features_to_select).fit(X, Y)\n",
        "\n",
        "# Get the indices of the selected features\n",
        "selected_feature_indices = selected_features.get_support(indices=True)\n",
        "\n",
        "# Display the selected features and their indices\n",
        "\n",
        "selected_feature_names = X.columns[selected_feature_indices]\n",
        "print(\"Selected features:\", selected_feature_names)\n",
        "\n",
        "# Selected features' data\n",
        "selected_data = X[selected_feature_names]\n",
        "print(selected_data.head())"
      ]
    },
    {
      "cell_type": "markdown",
      "metadata": {},
      "source": [
        " perform feature selection using ANOVA(Analysis of variance between target variable price and other columns present in the dataset and select top 9 columms in the dataset since out of 12 columns (13th column is price -target variable) , one  is redundant column since travel time or travel duration both are same and dep_time  and arr_time are categorical aliases for the depature_time and arrival_time."
      ]
    },
    {
      "cell_type": "code",
      "execution_count": null,
      "metadata": {
        "colab": {
          "base_uri": "https://localhost:8080/",
          "height": 424
        },
        "id": "SNhcAOW7LSbB",
        "outputId": "ef171338-0ad4-486f-b154-e7333584cdb1"
      },
      "outputs": [],
      "source": [
        "features_to_drop = [col for col in flightdf.columns if col not in selected_feature_names and col != 'price']\n",
        "flightdf.drop(features_to_drop, axis=1, inplace=True)\n",
        "flightdf"
      ]
    },
    {
      "cell_type": "markdown",
      "metadata": {},
      "source": [
        "dropping the departure and arrival time since they less variance from the above with respect to price"
      ]
    },
    {
      "cell_type": "code",
      "execution_count": null,
      "metadata": {},
      "outputs": [],
      "source": [
        "flightdf = flightdf.drop('departure_time', axis=1)\n",
        "flightdf = flightdf.drop('arrival_time', axis=1)"
      ]
    },
    {
      "cell_type": "code",
      "execution_count": null,
      "metadata": {},
      "outputs": [],
      "source": [
        "flightdf"
      ]
    },
    {
      "cell_type": "code",
      "execution_count": null,
      "metadata": {},
      "outputs": [],
      "source": [
        "final = flightdf.copy()\n",
        "final"
      ]
    },
    {
      "cell_type": "code",
      "execution_count": null,
      "metadata": {
        "id": "4siugAUhLSbB"
      },
      "outputs": [],
      "source": [
        "import statsmodels.api as sm\n",
        "Y = flightdf[\"price\"]\n",
        "X = flightdf.drop([\"price\"], axis=1)\n",
        "#Adding constant column of ones, mandatory for sm.OLS model\n",
        "X_1 = sm.add_constant(X)\n",
        "#Fitting sm.OLS model\n",
        "model = sm.OLS(Y,X_1).fit()"
      ]
    },
    {
      "cell_type": "code",
      "execution_count": null,
      "metadata": {
        "colab": {
          "base_uri": "https://localhost:8080/"
        },
        "id": "mN5ktEFKLSbB",
        "outputId": "1c509434-6c0b-4bc2-84de-ab83e31400c0"
      },
      "outputs": [],
      "source": [
        "cols = list(X.columns)\n",
        "pmax = 1\n",
        "while (len(cols)>0):\n",
        "    p= []\n",
        "    X_1 = X[cols]\n",
        "    X_1 = sm.add_constant(X_1)\n",
        "    model = sm.OLS(Y,X_1).fit()\n",
        "    p = pd.Series(model.pvalues.values[1:],index = cols)\n",
        "    pmax = max(p)\n",
        "    feature_with_p_max = p.idxmax()\n",
        "    if(pmax>0.05):\n",
        "        cols.remove(feature_with_p_max)\n",
        "    else:\n",
        "        break\n",
        "selected_features_BE = cols\n",
        "print(selected_features_BE)"
      ]
    },
    {
      "cell_type": "markdown",
      "metadata": {},
      "source": [
        "Normalising the values using minmax scaler so that other columns with higher maginitudeof numeric wont dominate the lesser ones"
      ]
    },
    {
      "cell_type": "code",
      "execution_count": null,
      "metadata": {
        "id": "OLIQ-DlfLSbB"
      },
      "outputs": [],
      "source": [
        "from sklearn.preprocessing import MinMaxScaler\n",
        "\n",
        "# Custom new minimum and maximum values\n",
        "new_min = 0\n",
        "new_max = 1  # Set your desired maximum value\n",
        "\n",
        "duration_min = flightdf['travel_time'].min()\n",
        "duration_max = flightdf['travel_time'].max()\n",
        "days_left_min = flightdf['days_left'].min()\n",
        "days_left_max = flightdf['days_left'].max()\n",
        "price_min = flightdf['price'].min()\n",
        "price_max = flightdf['price'].max()"
      ]
    },
    {
      "cell_type": "code",
      "execution_count": null,
      "metadata": {
        "colab": {
          "base_uri": "https://localhost:8080/",
          "height": 424
        },
        "id": "ry-TFNgdLSbC",
        "outputId": "78926ec9-7941-4863-b084-3d464c7e8b01"
      },
      "outputs": [],
      "source": [
        "scaler = MinMaxScaler(feature_range=(new_min, new_max))\n",
        "\n",
        " # List of numerical columns to scale\n",
        "num_cols = ['travel_time', 'days_left', 'price']\n",
        "\n",
        " # Apply min-max scaling to the specified columns in flightdf\n",
        "flightdf[num_cols] = scaler.fit_transform(flightdf[num_cols])\n",
        "\n",
        " # Display the scaled DataFrame\n",
        "flightdf"
      ]
    },
    {
      "cell_type": "code",
      "execution_count": null,
      "metadata": {
        "id": "15zkVz-4LSbC"
      },
      "outputs": [],
      "source": [
        "Y = flightdf[\"price\"]\n",
        "X = flightdf.drop([\"price\"], axis=1)"
      ]
    },
    {
      "cell_type": "markdown",
      "metadata": {},
      "source": [
        " split  80 % of the dataset for the training purpose and 20 % for the training purpose and random state as ‘7’ just to ensure if we run the code again from random state we get the same split."
      ]
    },
    {
      "cell_type": "code",
      "execution_count": null,
      "metadata": {
        "id": "yaOmhi5qLSbC"
      },
      "outputs": [],
      "source": [
        "from sklearn.model_selection import train_test_split\n",
        "\n",
        "X_train, X_test, Y_train, Y_test = train_test_split(X, Y, train_size = 0.8, test_size = 0.2, random_state = 7)"
      ]
    },
    {
      "cell_type": "markdown",
      "metadata": {
        "id": "iAt97FuhT0JU"
      },
      "source": [
        "#### **Linear regression**"
      ]
    },
    {
      "cell_type": "markdown",
      "metadata": {},
      "source": [
        "Performing the linear regression training and predicting"
      ]
    },
    {
      "cell_type": "code",
      "execution_count": null,
      "metadata": {
        "id": "iJIPNKB9LSbC"
      },
      "outputs": [],
      "source": [
        "from sklearn.linear_model import LinearRegression\n",
        "\n",
        "lrm = LinearRegression()\n",
        "\n",
        "lrm.fit(X_train,Y_train) #training the algorithm\n",
        "\n",
        "Y_pred = lrm.predict(X_test)"
      ]
    },
    {
      "cell_type": "markdown",
      "metadata": {},
      "source": [
        "retrieve the intercept and coefficients (slopes) of a linear regression model"
      ]
    },
    {
      "cell_type": "code",
      "execution_count": null,
      "metadata": {
        "colab": {
          "base_uri": "https://localhost:8080/"
        },
        "id": "HE-GzDmsLSbC",
        "outputId": "a03ef8f1-644a-4863-9fd6-15f9bf01b36c"
      },
      "outputs": [],
      "source": [
        "print(lrm.intercept_)\n",
        "\n",
        "#For retrieving the slope:\n",
        "print(lrm.coef_)"
      ]
    },
    {
      "cell_type": "code",
      "execution_count": null,
      "metadata": {
        "id": "83Ya9QHHLSbD"
      },
      "outputs": [],
      "source": [
        "df_lrm = pd.DataFrame({'Actual': Y_test.to_numpy().flatten(), 'Predicted': Y_pred.flatten()})"
      ]
    },
    {
      "cell_type": "markdown",
      "metadata": {},
      "source": [
        "Evaluation metrics for Linear Regression"
      ]
    },
    {
      "cell_type": "code",
      "execution_count": null,
      "metadata": {
        "colab": {
          "base_uri": "https://localhost:8080/"
        },
        "id": "pwRgKMvmLSbD",
        "outputId": "8972a273-ff1f-4e87-97ec-9d194ed46f64"
      },
      "outputs": [],
      "source": [
        "from sklearn.metrics import mean_squared_error,mean_absolute_error ,r2_score\n",
        "\n",
        "# MSE\n",
        "\n",
        "MSE_LR=mean_squared_error(Y_test, Y_pred)\n",
        "print(\"MSE: \", mean_squared_error(Y_test, Y_pred))\n",
        "\n",
        "# RMSE\n",
        "\n",
        "RMSE_LR=np.sqrt(mean_squared_error(Y_test, Y_pred))\n",
        "print(\"RMSE: \", np.sqrt(mean_squared_error(Y_test, Y_pred)))\n",
        "\n",
        "# MAE"
      ]
    },
    {
      "cell_type": "code",
      "execution_count": null,
      "metadata": {
        "colab": {
          "base_uri": "https://localhost:8080/"
        },
        "id": "hMEYwmQaLSbD",
        "outputId": "d8108eaf-69db-4dc2-86c6-b78ab59a6f13"
      },
      "outputs": [],
      "source": [
        "MAE_LR=np.sqrt(mean_absolute_error(Y_test, Y_pred))\n",
        "print(\"MAE: \", np.sqrt(mean_absolute_error(Y_test, Y_pred)))\n",
        "\n",
        "# R2 Score\n",
        "\n",
        "R2_LR=r2_score(Y_test, Y_pred)\n",
        "print(\"R2 Score: \", r2_score(Y_test, Y_pred))"
      ]
    },
    {
      "cell_type": "markdown",
      "metadata": {
        "id": "6C4r1WZiT6DE"
      },
      "source": [
        "#### **Decision Tree**"
      ]
    },
    {
      "cell_type": "markdown",
      "metadata": {},
      "source": []
    },
    {
      "cell_type": "code",
      "execution_count": null,
      "metadata": {
        "id": "zxiqqGcxLSbD"
      },
      "outputs": [],
      "source": [
        "from sklearn import datasets\n",
        "\n",
        "from sklearn.tree import DecisionTreeRegressor    # Import decision tree regression model"
      ]
    },
    {
      "cell_type": "markdown",
      "metadata": {},
      "source": [
        " Initialize and fit regressor,The criterion parameter specifies the function that the decision tree algorithm will use to measure the quality of a split during the tree-building process. In this case, 'mse' stands for Mean Squared Error, which is a common criterion for regression problems. It measures the average squared difference between the actual target values and the predicted values. The decision tree algorithm tries to minimize this error when splitting the data."
      ]
    },
    {
      "cell_type": "code",
      "execution_count": null,
      "metadata": {
        "id": "YcQeOrb8LSbD"
      },
      "outputs": [],
      "source": [
        "Rtree = DecisionTreeRegressor(criterion='friedman_mse',     \n",
        "                             max_depth=3)"
      ]
    },
    {
      "cell_type": "code",
      "execution_count": null,
      "metadata": {
        "id": "Aqryba7bLSbE"
      },
      "outputs": [],
      "source": [
        "RT_model = Rtree.fit(X_train, Y_train)\n",
        "\n",
        "Y_pred = RT_model.predict(X_test)"
      ]
    },
    {
      "cell_type": "code",
      "execution_count": null,
      "metadata": {
        "colab": {
          "base_uri": "https://localhost:8080/",
          "height": 834
        },
        "id": "swEBp8MPLSbE",
        "outputId": "de510693-5e47-4680-a0bf-e310b4fa6e64"
      },
      "outputs": [],
      "source": [
        "df_RT = pd.DataFrame({'Actual': Y_test.to_numpy().flatten(), 'Predicted': Y_pred.flatten()})\n",
        "\n",
        "df1 = df_RT.head(25)\n",
        "df1.plot(kind='bar',figsize=(16,10))\n",
        "plt.grid(which='major', linestyle='-', linewidth='0.1')\n",
        "plt.grid(which='minor', linestyle=':', linewidth='0.1')\n",
        "plt.show()"
      ]
    },
    {
      "cell_type": "code",
      "execution_count": null,
      "metadata": {
        "colab": {
          "base_uri": "https://localhost:8080/"
        },
        "id": "yD7bESUkLSbE",
        "outputId": "402d3023-1bcf-409b-b65e-d9b9ebce82a8"
      },
      "outputs": [],
      "source": [
        "from sklearn.metrics import mean_squared_error,mean_absolute_error ,r2_score\n",
        "\n",
        "# MSE\n",
        "\n",
        "MSE_DTR=mean_squared_error(Y_test, Y_pred)\n",
        "print(\"MSE: \", mean_squared_error(Y_test, Y_pred))\n",
        "\n",
        "# RMSE\n",
        "\n",
        "RMSE_DTR=np.sqrt(mean_squared_error(Y_test, Y_pred))\n",
        "print(\"RMSE: \", np.sqrt(mean_squared_error(Y_test, Y_pred)))\n",
        "\n",
        "# MAE\n",
        "MAE_DTR=np.sqrt(mean_absolute_error(Y_test, Y_pred))\n",
        "print(\"MAE: \", np.sqrt(mean_absolute_error(Y_test, Y_pred)))\n",
        "\n",
        "# R2 Score\n",
        "\n",
        "R2_DTR=r2_score(Y_test, Y_pred)\n",
        "print(\"R2 Score: \", r2_score(Y_test, Y_pred))\n"
      ]
    },
    {
      "cell_type": "markdown",
      "metadata": {
        "id": "UHbzVJ50T-bw"
      },
      "source": [
        "#### **Random Forest**"
      ]
    },
    {
      "cell_type": "code",
      "execution_count": null,
      "metadata": {
        "id": "4-r4Zn6RLSbE"
      },
      "outputs": [],
      "source": [
        "from sklearn.ensemble import RandomForestRegressor\n",
        "\n",
        "rfr= RandomForestRegressor(n_estimators= 50, random_state= 0)\n",
        "rfr.fit(X_train,Y_train)\n",
        "Y_pred = rfr.predict(X_test)"
      ]
    },
    {
      "cell_type": "code",
      "execution_count": null,
      "metadata": {
        "colab": {
          "base_uri": "https://localhost:8080/"
        },
        "id": "8KWzL_hfLSbE",
        "outputId": "cbc81ddf-c2f9-4cab-b5d1-ad9f90a65f54"
      },
      "outputs": [],
      "source": [
        "from sklearn.metrics import mean_squared_error,mean_absolute_error ,r2_score\n",
        "\n",
        "# MSE\n",
        "\n",
        "MSE_RFR=mean_squared_error(Y_test, Y_pred)\n",
        "print(\"MSE: \", mean_squared_error(Y_test, Y_pred))\n",
        "\n",
        "# RMSE\n",
        "\n",
        "RMSE_RFR=np.sqrt(mean_squared_error(Y_test, Y_pred))\n",
        "print(\"RMSE: \", np.sqrt(mean_squared_error(Y_test, Y_pred)))\n",
        "MAE_RFR=np.sqrt(mean_absolute_error(Y_test, Y_pred))\n",
        "print(\"MAE: \", np.sqrt(mean_absolute_error(Y_test, Y_pred)))\n",
        "\n",
        "# R2 Score\n",
        "\n",
        "R2_RFR=r2_score(Y_test, Y_pred)\n",
        "print(\"R2 Score: \", r2_score(Y_test, Y_pred))\n"
      ]
    },
    {
      "cell_type": "markdown",
      "metadata": {
        "id": "9fL8OTk1UDVN"
      },
      "source": [
        "#### **XGBoost regressor**"
      ]
    },
    {
      "cell_type": "code",
      "execution_count": null,
      "metadata": {
        "id": "G5vJccyGLSbE"
      },
      "outputs": [],
      "source": [
        "import xgboost\n",
        "from xgboost import XGBRegressor\n",
        "\n",
        "# Create an XGBRegressor model\n",
        "XGB = XGBRegressor(n_estimators=100, learning_rate=0.1)\n",
        "XGB.fit(X_train,Y_train)\n",
        "Y_pred = XGB.predict(X_test)"
      ]
    },
    {
      "cell_type": "code",
      "execution_count": null,
      "metadata": {
        "colab": {
          "base_uri": "https://localhost:8080/"
        },
        "id": "ilU36_8gLSbF",
        "outputId": "0438085b-8755-45e4-9dc9-aa7f00eca64c"
      },
      "outputs": [],
      "source": [
        "SE_XGB=mean_squared_error(Y_test, Y_pred)\n",
        "print(\"MSE: \", mean_squared_error(Y_test, Y_pred))\n",
        "\n",
        "# RMSE\n",
        "\n",
        "RMSE_XGB=np.sqrt(mean_squared_error(Y_test, Y_pred))\n",
        "print(\"RMSE: \", np.sqrt(mean_squared_error(Y_test, Y_pred)))\n",
        "\n",
        "# MAE\n",
        "\n",
        "MAE_XGB=np.sqrt(mean_absolute_error(Y_test, Y_pred))\n",
        "print(\"MAE: \", np.sqrt(mean_absolute_error(Y_test, Y_pred)))"
      ]
    },
    {
      "cell_type": "code",
      "execution_count": null,
      "metadata": {
        "colab": {
          "base_uri": "https://localhost:8080/"
        },
        "id": "3Pz1CL-LLSbF",
        "outputId": "76d5859f-0dc9-48d3-efdb-5cd2948e01c6"
      },
      "outputs": [],
      "source": [
        "R2_XGB=r2_score(Y_test, Y_pred)\n",
        "print(\"R2 Score: \", r2_score(Y_test, Y_pred))"
      ]
    },
    {
      "cell_type": "markdown",
      "metadata": {
        "id": "jIXRsHNeUKGl"
      },
      "source": [
        "#### **Comparision Table**"
      ]
    },
    {
      "cell_type": "code",
      "execution_count": null,
      "metadata": {
        "colab": {
          "base_uri": "https://localhost:8080/",
          "height": 206
        },
        "id": "EoVftT0eLSbF",
        "outputId": "77575a0c-ed5c-49d0-b0d1-65ca43bf4378"
      },
      "outputs": [],
      "source": [
        "import pandas as pd\n",
        "\n",
        "models = [\"Linear Regression\", \"Decision Tree Regressor\", \"Random Forest Regressor\", \"XGBRegressor\"]\n",
        "MSE = [MSE_LR, MSE_DTR, MSE_RFR, RMSE_XGB]\n",
        "RMSE = [RMSE_LR, RMSE_DTR, RMSE_RFR, RMSE_XGB]\n",
        "MAE = [MAE_LR, MAE_DTR, MAE_RFR, MAE_XGB]\n",
        "R2 = [R2_LR, R2_DTR, R2_RFR, R2_XGB]\n",
        "\n",
        "# Create a DataFrame to display the results with indexing starting from 1 and labeled as 'Model no.'\n",
        "results = pd.DataFrame({\n",
        "    'Model': models,\n",
        "    'MSE': MSE,\n",
        "    'RMSE': RMSE,\n",
        "    'MAE': MAE,\n",
        "    'R Squared': R2\n",
        "}, index=range(1, len(models) + 1))  # Start indexing from 1\n",
        "\n",
        "# Rename the index column to 'Model no.'\n",
        "results.index.name = 'Model no.'\n",
        "\n",
        "\n",
        "def highlight_min_max(val):\n",
        "    style = ''\n",
        "    if isinstance(val, (int, float)):\n",
        "        if val == results['MSE'].min():\n",
        "            style += 'background-color: rgba(255, 0, 0, 0.3); color: black; font-weight: bold;'  # Red for minimum MSE\n",
        "        if val == results['RMSE'].min():\n",
        "            style += 'background-color: rgba(0, 255, 0, 0.3); color: black; font-weight: bold;'  # Green for minimum RMSE\n",
        "        if val == results['MAE'].min():\n",
        "            style += 'background-color: rgba(0, 0, 255, 0.3); color: black; font-weight: bold;'  # Blue for minimum MAE\n",
        "        if val == results['R Squared'].max():\n",
        "            style += 'background-color: rgba(255, 255, 0, 0.3); color: black; font-weight: bold;'  # Yellow for maximum R Squared\n",
        "    return style\n",
        "\n",
        "\n",
        "# Apply the highlight_min_max function to the entire DataFrame\n",
        "styled_results = results.style.applymap(highlight_min_max)\n",
        "\n",
        "# Display the styled results DataFrame\n",
        "styled_results\n",
        "\n"
      ]
    },
    {
      "cell_type": "markdown",
      "metadata": {
        "id": "sDF9VDv5UOxe"
      },
      "source": [
        "**Saving Model**"
      ]
    },
    {
      "cell_type": "markdown",
      "metadata": {},
      "source": [
        "The Random Forest Regressor emerges as the most effective model for flight price prediction, demonstrating superior accuracy and robustness in capturing the complexities of pricing dynamics.\n",
        "Random Forest Regressor stands out as the most effective model, striking a balance between accuracy and interpretability.\n",
        "XGBRegressor, while competitive, demonstrates a slightly higher error rate, suggesting that Random Forest is more suitable for this specific problem.\n"
      ]
    },
    {
      "cell_type": "code",
      "execution_count": null,
      "metadata": {
        "id": "VL5smm_LLSbF",
        "outputId": "e217d8cb-6590-443e-9112-be018bddd8f3"
      },
      "outputs": [],
      "source": [
        "import joblib\n",
        "# Separate features and target variable\n",
        "X = final.drop('price', axis=1)  # Features\n",
        "y = final['price']  # Target variable\n",
        "\n",
        "# Train Random Forest Regressor\n",
        "rf_regressor = RandomForestRegressor()\n",
        "rf_regressor.fit(X, y)\n",
        "\n",
        "# Save the trained model using joblib\n",
        "joblib.dump(rf_regressor, r'C:\\Users\\rp225995\\Documents\\Model.pkl')"
      ]
    },
    {
      "cell_type": "markdown",
      "metadata": {},
      "source": [
        "deploying the random forest model to a pickle file"
      ]
    },
    {
      "cell_type": "markdown",
      "metadata": {},
      "source": [
        "## **GUI**"
      ]
    },
    {
      "cell_type": "markdown",
      "metadata": {},
      "source": [
        "creating a GUI"
      ]
    },
    {
      "cell_type": "code",
      "execution_count": null,
      "metadata": {},
      "outputs": [],
      "source": [
        "import tkinter as tk\n",
        "from tkinter import ttk, messagebox\n",
        "import joblib\n",
        "\n",
        "# Encoded values for categorical columns\n",
        "encoded_values = {\n",
        "    'Airline': {'Spirit': 5, 'Alaska': 1, 'Delta': 2, 'GO FIRST': 3, 'Southwest': 4, 'Air India': 0, 'Trujet': 7, 'StarAir': 6},\n",
        "    'Stop': {'zero': 2, 'one': 1, ' two or more': 0},\n",
        "    'Class': {'Economy': 1, 'Business': 0},\n",
        "    'source_city': {'Newyork': 5, 'LasVegas': 3, 'LosAngeles': 4, 'Chicago': 0, 'Dallas': 1, 'Houston': 2},\n",
        "    'destination_city': {'LasVegas': 3, 'LosAngeles': 4, 'Chicago': 0, 'Dallas': 1, 'Houston': 2, 'Newyork': 5}\n",
        "    # Other fields are considered as normal fields\n",
        "}\n",
        "\n",
        "# Function to predict price based on user input\n",
        "def predict_price():\n",
        "    try:\n",
        "        # Get user inputs for encoded fields\n",
        "        source_city = encoded_values['source_city'].get(source_city_dropdown.get(), source_city_dropdown.get())\n",
        "        destination_city = encoded_values['destination_city'].get(destination_city_dropdown.get(), destination_city_dropdown.get())\n",
        "        airline = encoded_values['Airline'].get(airline_dropdown.get(), airline_dropdown.get())\n",
        "        stop = encoded_values['Stop'].get(stop_dropdown.get(), stop_dropdown.get())\n",
        "        class_ = encoded_values['Class'].get(class_dropdown.get(), class_dropdown.get())\n",
        "        \n",
        "\n",
        "        # Get user inputs for numerical fields\n",
        "        days_left = float(days_left_entry.get()) if days_left_entry.get() else None\n",
        "        travel_time = float(travel_time_entry.get()) if travel_time_entry.get() else None\n",
        "        \n",
        "        # Check if source city and destination city are the same\n",
        "        if source_city == destination_city:\n",
        "            raise ValueError(\"Source city and destination city cannot be the same.\")\n",
        "        \n",
        "        # Create a feature vector based on user inputs\n",
        "        user_data = [[airline, stop, days_left, travel_time, class_, source_city, destination_city]]\n",
        "        \n",
        "        # Make prediction using the loaded model\n",
        "        predicted_price = model.predict(user_data)\n",
        "        \n",
        "        # Display the predicted price\n",
        "        result_label.config(text=f\"Predicted Price: ${predicted_price[0]:.2f}\")\n",
        "    \n",
        "    except ValueError as ve:\n",
        "        messagebox.showerror(\"Error\", f\"ValueError: {ve}. Please enter valid input.\")\n",
        "    except Exception as e:\n",
        "        messagebox.showerror(\"Error\", f\"Prediction error: {e}\")\n",
        "\n",
        "\n",
        "# Load the trained model\n",
        "model = joblib.load(r'C:\\Users\\rp225995\\Documents\\Model.pkl')\n",
        "\n",
        "# Create a GUI window\n",
        "root = tk.Tk()\n",
        "root.title(\"Flight Price Prediction\")\n",
        "\n",
        "# Create a main frame\n",
        "main_frame = ttk.Frame(root, padding=20)\n",
        "main_frame.pack()\n",
        "\n",
        "# Create frames for categorical and numerical inputs\n",
        "categorical_frame = ttk.LabelFrame(main_frame, text=\"Categorical Inputs\")\n",
        "categorical_frame.grid(row=0, column=0, padx=10, pady=5)\n",
        "\n",
        "numerical_frame = ttk.LabelFrame(main_frame, text=\"Numerical Inputs\")\n",
        "numerical_frame.grid(row=0, column=1, padx=10, pady=5)\n",
        "\n",
        "# Create dropdown menus for encoded categorical columns\n",
        "dropdowns = {}\n",
        "for i, (column, values) in enumerate(encoded_values.items()):\n",
        "    if column not in ['Arrival Time']:\n",
        "        label = ttk.Label(categorical_frame, text=f'{column}:')\n",
        "        label.grid(row=i, column=0, padx=5, pady=2, sticky='w')\n",
        "        dropdown_var = tk.StringVar(root)\n",
        "        dropdown_var.set('')  # Empty value initially\n",
        "        dropdown = ttk.Combobox(categorical_frame, textvariable=dropdown_var, values=list(values.keys()), state='readonly')\n",
        "        dropdown.grid(row=i, column=1, padx=5, pady=2)\n",
        "        dropdowns[column] = dropdown_var\n",
        "\n",
        "# Assign specific dropdowns to respective variables\n",
        "source_city_dropdown = dropdowns['source_city']\n",
        "destination_city_dropdown = dropdowns['destination_city']\n",
        "airline_dropdown = dropdowns['Airline']\n",
        "stop_dropdown = dropdowns['Stop']\n",
        "class_dropdown = dropdowns['Class']\n",
        "\n",
        "# Numerical input fields initially empty\n",
        "days_left_label = ttk.Label(numerical_frame, text='Days Left:')\n",
        "days_left_label.grid(row=0, column=0, padx=5, pady=2, sticky='w')\n",
        "days_left_entry = ttk.Entry(numerical_frame)\n",
        "days_left_entry.grid(row=0, column=1, padx=5, pady=2)\n",
        "\n",
        "travel_time_label = ttk.Label(numerical_frame, text='Travel Time:')\n",
        "travel_time_label.grid(row=1, column=0, padx=5, pady=2, sticky='w')\n",
        "travel_time_entry = ttk.Entry(numerical_frame)\n",
        "travel_time_entry.grid(row=1, column=1, padx=5, pady=2)\n",
        "\n",
        "# Function to set numerical input fields based on dropdown selection\n",
        "def set_numerical_entries(event):\n",
        "    selected_airline = airline_dropdown.get()\n",
        "    if selected_airline:\n",
        "        days_left_entry.delete(0, tk.END)\n",
        "        travel_time_entry.delete(0, tk.END)\n",
        "        # Assign values based on selected dropdown value\n",
        "        days_left_entry.insert(0, '5')  # Example default value for days_left\n",
        "        travel_time_entry.insert(0, '10')  # Example default value for travel_time\n",
        "\n",
        "# Bind the dropdowns to call set_numerical_entries on selection\n",
        "airline_dropdown = dropdowns['Airline']\n",
        "airline_dropdown.trace('w', set_numerical_entries)\n",
        "\n",
        "# Create a button to predict\n",
        "predict_button = ttk.Button(main_frame, text=\"Predict Price\", command=predict_price)\n",
        "predict_button.grid(row=1, column=0, columnspan=2, pady=10)\n",
        "\n",
        "# Create a label to display the result\n",
        "result_label = ttk.Label(main_frame, text=\"\")\n",
        "result_label.grid(row=2, column=0, columnspan=2, pady=5)\n",
        "\n",
        "# Function to clear all input fields and output label\n",
        "def clear_entries():\n",
        "    for dropdown_var in dropdowns.values():\n",
        "        dropdown_var.set('')\n",
        "    days_left_entry.delete(0, tk.END)\n",
        "    travel_time_entry.delete(0, tk.END)\n",
        "    result_label.config(text=\"\")\n",
        "\n",
        "# Create a button to clear entries\n",
        "clear_button = ttk.Button(main_frame, text=\"Clear\", command=clear_entries)\n",
        "clear_button.grid(row=3, column=0, columnspan=2, pady=10)\n",
        "\n",
        "# Run the main loop\n",
        "root.mainloop()\n"
      ]
    }
  ],
  "metadata": {
    "colab": {
      "provenance": []
    },
    "kernelspec": {
      "display_name": "Python 3",
      "language": "python",
      "name": "python3"
    },
    "language_info": {
      "codemirror_mode": {
        "name": "ipython",
        "version": 3
      },
      "file_extension": ".py",
      "mimetype": "text/x-python",
      "name": "python",
      "nbconvert_exporter": "python",
      "pygments_lexer": "ipython3",
      "version": "3.9.12"
    }
  },
  "nbformat": 4,
  "nbformat_minor": 0
}
